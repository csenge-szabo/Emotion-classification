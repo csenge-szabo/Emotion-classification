{
 "cells": [
  {
   "cell_type": "markdown",
   "metadata": {},
   "source": [
    "# Lab5 Creating a BoW SVM Classifier from MELD and Tweets"
   ]
  },
  {
   "cell_type": "markdown",
   "metadata": {},
   "source": [
    "Copyright: Vrije Universiteit Amsterdam, Faculty of Humanities, CLTL"
   ]
  },
  {
   "cell_type": "markdown",
   "metadata": {},
   "source": [
    "To classify your conversation with Eliza, you need to build a SVM emotion classifier using a TFIDF Bag-of-Words representation using all the data from MELD and WASSA Tweets. In this case you can use all the train, test and development data to train the final classifier as you are going to test it on your conversation."
   ]
  },
  {
   "cell_type": "code",
   "execution_count": 1,
   "metadata": {},
   "outputs": [],
   "source": [
    "import pandas as pd\n",
    "from collections import Counter, OrderedDict\n",
    "import nltk\n",
    "from nltk.corpus import stopwords\n",
    "import pickle\n",
    "import sklearn\n",
    "from sklearn import svm\n",
    "from sklearn.metrics import classification_report\n",
    "from sklearn.feature_extraction.text import CountVectorizer\n",
    "from sklearn.feature_extraction.text import TfidfTransformer\n",
    "import seaborn as sns\n",
    "import lab5_util as util"
   ]
  },
  {
   "cell_type": "markdown",
   "metadata": {},
   "source": [
    "### 1. Loading the tweet data set"
   ]
  },
  {
   "cell_type": "code",
   "execution_count": 2,
   "metadata": {},
   "outputs": [],
   "source": [
    "# HERE COMES THE CODE TO LOAD THE TWEET TRAINING DATA\n",
    "filepath = './data/wassa/training/all.train.tsv'\n",
    "dftweets_train = pd.read_csv(filepath, sep='\\t')"
   ]
  },
  {
   "cell_type": "code",
   "execution_count": 3,
   "metadata": {},
   "outputs": [],
   "source": [
    "# HERE COMES THE CODE TO LOAD THE TWEET TEST DATA\n",
    "filepath = './data/wassa/testing/all.test.tsv'\n",
    "dftweets_test = pd.read_csv(filepath, sep='\\t')"
   ]
  },
  {
   "cell_type": "code",
   "execution_count": 4,
   "metadata": {},
   "outputs": [],
   "source": [
    "# HERE COMES THE CODE TO LOAD THE TWEET DEVELOPMENT DATA\n",
    "filepath = './data/wassa/development/all.dev.tsv'\n",
    "dftweets_dev = pd.read_csv(filepath, sep='\\t')"
   ]
  },
  {
   "cell_type": "markdown",
   "metadata": {},
   "source": [
    "Get the training texts and labels"
   ]
  },
  {
   "cell_type": "code",
   "execution_count": 5,
   "metadata": {},
   "outputs": [
    {
     "name": "stdout",
     "output_type": "stream",
     "text": [
      "Number of tweet train instances: 3613\n",
      "Number of tweet train labels: 3613\n",
      "Number of tweet test instances: 3142\n",
      "Number of tweet test labels: 3142\n",
      "Number of tweet dev instances: 694\n",
      "Number of tweet dev label: 694\n"
     ]
    }
   ],
   "source": [
    "# HERE COMES THE CODE TO GET THE TEXT FROM TRAIN\n",
    "tweet_train_instances = dftweets_train['Tweet']\n",
    "print(f\"Number of tweet train instances: {len(tweet_train_instances)}\")\n",
    "\n",
    "# HERE COMES THE CODE TO GET THE LABELS FROM TRAIN\n",
    "tweet_train_labels = dftweets_train['Label']\n",
    "print(f\"Number of tweet train labels: {len(tweet_train_labels)}\")\n",
    "\n",
    "# HERE COMES THE CODE TO GET THE TEXT FROM TEST\n",
    "tweet_test_instances = dftweets_test['Tweet']\n",
    "print(f\"Number of tweet test instances: {len(tweet_test_instances)}\")\n",
    "\n",
    "# HERE COMES THE CODE TO GET THE LABEL FROM TEST\n",
    "tweet_test_labels = dftweets_test['Label']\n",
    "print(f\"Number of tweet test labels: {len(tweet_test_labels)}\")\n",
    "\n",
    "# HERE COMES THE CODE TO GET THE TEXT FROM DEV\n",
    "tweet_dev_instances = dftweets_dev['Tweet']\n",
    "print(f\"Number of tweet dev instances: {len(tweet_dev_instances)}\")\n",
    "\n",
    "# HERE COMES THE CODE TO GET THE LABELS FROM DEV\n",
    "tweet_dev_labels = dftweets_dev['Label']\n",
    "print(f\"Number of tweet dev label: {len(tweet_dev_labels)}\")"
   ]
  },
  {
   "cell_type": "markdown",
   "metadata": {},
   "source": [
    "## 2. Loading the MELD data set"
   ]
  },
  {
   "cell_type": "code",
   "execution_count": 6,
   "metadata": {},
   "outputs": [],
   "source": [
    "# HERE COMES THE CODE TO LOAD THE MELD TRAINING DATA\n",
    "filepath = './data/MELD/train_sent_emo.csv'\n",
    "dfmeld_train = pd.read_csv(filepath)\n",
    "util.replace_weird_tokens_in_meld(dfmeld_train)"
   ]
  },
  {
   "cell_type": "code",
   "execution_count": 7,
   "metadata": {},
   "outputs": [],
   "source": [
    "# HERE COMES THE CODE TO LOAD THE MELD TEST DATA\n",
    "filepath = './data/MELD/test_sent_emo.csv'\n",
    "dfmeld_test = pd.read_csv(filepath)\n",
    "util.replace_weird_tokens_in_meld(dfmeld_test)"
   ]
  },
  {
   "cell_type": "code",
   "execution_count": 8,
   "metadata": {},
   "outputs": [],
   "source": [
    "# HERE COMES THE CODE TO LOAD THE MELD DEVELOPMENT DATA\n",
    "filepath = './data/MELD/dev_sent_emo.csv'\n",
    "dfmeld_dev = pd.read_csv(filepath)\n",
    "util.replace_weird_tokens_in_meld(dfmeld_dev)"
   ]
  },
  {
   "cell_type": "code",
   "execution_count": 9,
   "metadata": {},
   "outputs": [
    {
     "name": "stdout",
     "output_type": "stream",
     "text": [
      "Number of MELD train instances: 9989\n",
      "Number of MELD train labels: 9989\n",
      "Number of MELD test instances: 2610\n",
      "Number of MELD test labels: 2610\n",
      "Number of MELD dev instances: 1109\n",
      "Number of MELD dev labels: 1109\n"
     ]
    }
   ],
   "source": [
    "# HERE COMES THE CODE TO GET THE TEXT FROM TRAIN\n",
    "meld_train_instances = dfmeld_train['Utterance']\n",
    "print(f\"Number of MELD train instances: {len(meld_train_instances)}\")\n",
    "\n",
    "# HERE COMES THE CODE TO GET THE LABELS FROM TRAIN\n",
    "meld_train_labels = dfmeld_train['Emotion']\n",
    "print(f\"Number of MELD train labels: {len(meld_train_labels)}\")\n",
    "\n",
    "# HERE COMES THE CODE TO GET THE TEXT FROM TEST\n",
    "meld_test_instances = dfmeld_test['Utterance']\n",
    "print(f\"Number of MELD test instances: {len(meld_test_instances)}\")\n",
    "\n",
    "# HERE COMES THE CODE TO GET THE LABEL FROM TEST\n",
    "meld_test_labels = dfmeld_test['Emotion']\n",
    "print(f\"Number of MELD test labels: {len(meld_test_labels)}\")\n",
    "\n",
    "# HERE COMES THE CODE TO GET THE TEXT FROM DEV\n",
    "meld_dev_instances = dfmeld_dev['Utterance']\n",
    "print(f\"Number of MELD dev instances: {len(meld_dev_instances)}\")\n",
    "\n",
    "# HERE COMES THE CODE TO GET THE LABELS FROM DEV\n",
    "meld_dev_labels = dfmeld_dev['Emotion']\n",
    "print(f\"Number of MELD dev labels: {len(meld_dev_labels)}\")\n"
   ]
  },
  {
   "cell_type": "markdown",
   "metadata": {},
   "source": [
    "## 3. Combining the training data"
   ]
  },
  {
   "cell_type": "code",
   "execution_count": 10,
   "metadata": {},
   "outputs": [
    {
     "name": "stdout",
     "output_type": "stream",
     "text": [
      "Number of combined train instances: 13602\n",
      "Number of combined train labels: 13602\n"
     ]
    }
   ],
   "source": [
    "# HERE COMES THE CODE FOR CREATING A SINGLE TRAINING DATA SET\n",
    "# Combine the instances and labels for the training data\n",
    "combined_train_instances = pd.concat([tweet_train_instances, meld_train_instances], ignore_index=True)\n",
    "combined_train_labels = pd.concat([tweet_train_labels, meld_train_labels], ignore_index=True)\n",
    "\n",
    "print(f\"Number of combined train instances: {len(combined_train_instances)}\")\n",
    "print(f\"Number of combined train labels: {len(combined_train_labels)}\")\n"
   ]
  },
  {
   "cell_type": "code",
   "execution_count": 11,
   "metadata": {},
   "outputs": [
    {
     "name": "stdout",
     "output_type": "stream",
     "text": [
      "Distribution of Emotion Labels in the combined data set:\n",
      "neutral     4710\n",
      "joy         2566\n",
      "anger       1966\n",
      "sadness     1469\n",
      "fear        1415\n",
      "surprise    1205\n",
      "disgust      271\n",
      "Name: count, dtype: int64\n",
      "Total of values 13602\n"
     ]
    },
    {
     "data": {
      "image/png": "[encoded data removed]",
      "text/plain": [
       "<Figure size 640x480 with 1 Axes>"
      ]
     },
     "metadata": {},
     "output_type": "display_data"
    }
   ],
   "source": [
    "# HERE COMES THE CODE TO CHECK THE DATA AND ANALYSE THE DISTRIBUTION OVER THE EMOTION LABELS\n",
    "import matplotlib.pyplot as plt\n",
    "label_distribution = combined_train_labels.value_counts()\n",
    "print(\"Distribution of Emotion Labels in the combined data set:\")\n",
    "print(label_distribution)\n",
    "\n",
    "# Extract labels and values\n",
    "labels = label_distribution.index\n",
    "values = label_distribution.values\n",
    "\n",
    "# Call the utility function to plot the distribution\n",
    "util.plot_labels_with_counts(labels, values)"
   ]
  },
  {
   "cell_type": "code",
   "execution_count": 12,
   "metadata": {},
   "outputs": [
    {
     "name": "stderr",
     "output_type": "stream",
     "text": [
      "/Users/szabo.csenge.99/anaconda3/lib/python3.11/site-packages/sklearn/feature_extraction/text.py:525: UserWarning: The parameter 'token_pattern' will not be used since 'tokenizer' is not None'\n",
      "  warnings.warn(\n"
     ]
    },
    {
     "name": "stdout",
     "output_type": "stream",
     "text": [
      "(13602, 3616)\n",
      "[0.21782356 0.38920232 0.         0.         0.         0.\n",
      " 0.         0.         0.         0.         0.         0.\n",
      " 0.         0.         0.         0.         0.         0.\n",
      " 0.         0.         0.         0.         0.         0.\n",
      " 0.         0.         0.         0.         0.         0.\n",
      " 0.         0.         0.2183826  0.         0.         0.\n",
      " 0.         0.         0.         0.05197148 0.         0.13679981\n",
      " 0.         0.         0.         0.         0.         0.\n",
      " 0.         0.        ]\n"
     ]
    }
   ],
   "source": [
    "# HERE COMES THE CODE TO TRAIN AN SVM CLASSIFIER WITH A BOW TFIDF DATA REPRESENTATION\n",
    "frequency_threshold = 3\n",
    "combined_vec = CountVectorizer(min_df=frequency_threshold,\n",
    "                             tokenizer=nltk.word_tokenize)\n",
    "\n",
    "training_count_vectors = combined_vec.fit_transform(combined_train_instances)\n",
    "\n",
    "#Convert raw frequency counts into TF-IDF values\n",
    "tfidf_transformer = TfidfTransformer()\n",
    "\n",
    "#For training data we use fit_transform\n",
    "training_tfidf_vectors = tfidf_transformer.fit_transform(training_count_vectors)\n",
    "print(training_tfidf_vectors.shape)\n",
    "print(training_tfidf_vectors.toarray()[0][:50]\n",
    "\n"
   ]
  },
  {
   "cell_type": "code",
   "execution_count": 13,
   "metadata": {
    "tags": []
   },
   "outputs": [
    {
     "name": "stderr",
     "output_type": "stream",
     "text": [
      "/Users/szabo.csenge.99/anaconda3/lib/python3.11/site-packages/sklearn/svm/_classes.py:32: FutureWarning: The default value of `dual` will change from `True` to `'auto'` in 1.5. Set the value of `dual` explicitly to suppress the warning.\n",
      "  warnings.warn(\n"
     ]
    },
    {
     "data": {
      "text/html": [
       "<style>#sk-container-id-1 {color: black;}#sk-container-id-1 pre{padding: 0;}#sk-container-id-1 div.sk-toggleable {background-color: white;}#sk-container-id-1 label.sk-toggleable__label {cursor: pointer;display: block;width: 100%;margin-bottom: 0;padding: 0.3em;box-sizing: border-box;text-align: center;}#sk-container-id-1 label.sk-toggleable__label-arrow:before {content: \"▸\";float: left;margin-right: 0.25em;color: #696969;}#sk-container-id-1 label.sk-toggleable__label-arrow:hover:before {color: black;}#sk-container-id-1 div.sk-estimator:hover label.sk-toggleable__label-arrow:before {color: black;}#sk-container-id-1 div.sk-toggleable__content {max-height: 0;max-width: 0;overflow: hidden;text-align: left;background-color: #f0f8ff;}#sk-container-id-1 div.sk-toggleable__content pre {margin: 0.2em;color: black;border-radius: 0.25em;background-color: #f0f8ff;}#sk-container-id-1 input.sk-toggleable__control:checked~div.sk-toggleable__content {max-height: 200px;max-width: 100%;overflow: auto;}#sk-container-id-1 input.sk-toggleable__control:checked~label.sk-toggleable__label-arrow:before {content: \"▾\";}#sk-container-id-1 div.sk-estimator input.sk-toggleable__control:checked~label.sk-toggleable__label {background-color: #d4ebff;}#sk-container-id-1 div.sk-label input.sk-toggleable__control:checked~label.sk-toggleable__label {background-color: #d4ebff;}#sk-container-id-1 input.sk-hidden--visually {border: 0;clip: rect(1px 1px 1px 1px);clip: rect(1px, 1px, 1px, 1px);height: 1px;margin: -1px;overflow: hidden;padding: 0;position: absolute;width: 1px;}#sk-container-id-1 div.sk-estimator {font-family: monospace;background-color: #f0f8ff;border: 1px dotted black;border-radius: 0.25em;box-sizing: border-box;margin-bottom: 0.5em;}#sk-container-id-1 div.sk-estimator:hover {background-color: #d4ebff;}#sk-container-id-1 div.sk-parallel-item::after {content: \"\";width: 100%;border-bottom: 1px solid gray;flex-grow: 1;}#sk-container-id-1 div.sk-label:hover label.sk-toggleable__label {background-color: #d4ebff;}#sk-container-id-1 div.sk-serial::before {content: \"\";position: absolute;border-left: 1px solid gray;box-sizing: border-box;top: 0;bottom: 0;left: 50%;z-index: 0;}#sk-container-id-1 div.sk-serial {display: flex;flex-direction: column;align-items: center;background-color: white;padding-right: 0.2em;padding-left: 0.2em;position: relative;}#sk-container-id-1 div.sk-item {position: relative;z-index: 1;}#sk-container-id-1 div.sk-parallel {display: flex;align-items: stretch;justify-content: center;background-color: white;position: relative;}#sk-container-id-1 div.sk-item::before, #sk-container-id-1 div.sk-parallel-item::before {content: \"\";position: absolute;border-left: 1px solid gray;box-sizing: border-box;top: 0;bottom: 0;left: 50%;z-index: -1;}#sk-container-id-1 div.sk-parallel-item {display: flex;flex-direction: column;z-index: 1;position: relative;background-color: white;}#sk-container-id-1 div.sk-parallel-item:first-child::after {align-self: flex-end;width: 50%;}#sk-container-id-1 div.sk-parallel-item:last-child::after {align-self: flex-start;width: 50%;}#sk-container-id-1 div.sk-parallel-item:only-child::after {width: 0;}#sk-container-id-1 div.sk-dashed-wrapped {border: 1px dashed gray;margin: 0 0.4em 0.5em 0.4em;box-sizing: border-box;padding-bottom: 0.4em;background-color: white;}#sk-container-id-1 div.sk-label label {font-family: monospace;font-weight: bold;display: inline-block;line-height: 1.2em;}#sk-container-id-1 div.sk-label-container {text-align: center;}#sk-container-id-1 div.sk-container {/* jupyter's `normalize.less` sets `[hidden] { display: none; }` but bootstrap.min.css set `[hidden] { display: none !important; }` so we also need the `!important` here to be able to override the default hidden behavior on the sphinx rendered scikit-learn.org. See: https://github.com/scikit-learn/scikit-learn/issues/21755 */display: inline-block !important;position: relative;}#sk-container-id-1 div.sk-text-repr-fallback {display: none;}</style><div id=\"sk-container-id-1\" class=\"sk-top-container\"><div class=\"sk-text-repr-fallback\"><pre>LinearSVC(max_iter=2000)</pre><b>In a Jupyter environment, please rerun this cell to show the HTML representation or trust the notebook. <br />On GitHub, the HTML representation is unable to render, please try loading this page with nbviewer.org.</b></div><div class=\"sk-container\" hidden><div class=\"sk-item\"><div class=\"sk-estimator sk-toggleable\"><input class=\"sk-toggleable__control sk-hidden--visually\" id=\"sk-estimator-id-1\" type=\"checkbox\" checked><label for=\"sk-estimator-id-1\" class=\"sk-toggleable__label sk-toggleable__label-arrow\">LinearSVC</label><div class=\"sk-toggleable__content\"><pre>LinearSVC(max_iter=2000)</pre></div></div></div></div></div>"
      ],
      "text/plain": [
       "LinearSVC(max_iter=2000)"
      ]
     },
     "execution_count": 13,
     "metadata": {},
     "output_type": "execute_result"
    }
   ],
   "source": [
    "# HERE COMES THE CODE TO TRAIN AN SVM CLASSIFIER WITH THE TRAINING DATA\n",
    "svm_linear_clf = svm.LinearSVC(max_iter=2000)\n",
    "svm_linear_clf.fit(training_tfidf_vectors, combined_train_labels)\n"
   ]
  },
  {
   "cell_type": "markdown",
   "metadata": {},
   "source": [
    "## 4. Saving the final combined classifier to disk"
   ]
  },
  {
   "cell_type": "code",
   "execution_count": 14,
   "metadata": {},
   "outputs": [],
   "source": [
    "# HERE COMES THE CODE TO SAVE THE CLASSIFIER TO DISK SO THAT YOU CAN USE IT FOR THE FINAL ASSIGNMENT\n",
    "#save the vectorizer\n",
    "filename_vectorizer = './models/combined_vectorizer.sav'\n",
    "pickle.dump(combined_vec, open(filename_vectorizer, 'wb'))\n",
    "\n",
    "# save the tfidf transformer\n",
    "filename_tfidftransformer = './models/combined_tfidf_transformer.sav'\n",
    "pickle.dump(tfidf_transformer, open(filename_tfidftransformer, 'wb'))\n",
    "\n",
    "# save the classifier to disk\n",
    "filename_classifier = './models/svm_linear_clf_bow.sav'\n",
    "pickle.dump(svm_linear_clf, open(filename_classifier, 'wb'))\n"
   ]
  },
  {
   "cell_type": "markdown",
   "metadata": {},
   "source": [
    "# End of notebook"
   ]
  }
 ],
 "metadata": {
  "kernelspec": {
   "display_name": "Python 3 (ipykernel)",
   "language": "python",
   "name": "python3"
  },
  "language_info": {
   "codemirror_mode": {
    "name": "ipython",
    "version": 3
   },
   "file_extension": ".py",
   "mimetype": "text/x-python",
   "name": "python",
   "nbconvert_exporter": "python",
   "pygments_lexer": "ipython3",
   "version": "3.11.5"
  }
 },
 "nbformat": 4,
 "nbformat_minor": 4
}
