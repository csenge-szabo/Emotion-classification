{
 "cells": [
  {
   "cell_type": "markdown",
   "metadata": {
    "tags": []
   },
   "source": [
    "# Lab5 Final assignment: putting it all together"
   ]
  },
  {
   "cell_type": "markdown",
   "metadata": {},
   "source": [
    "The final assignment is an individual assignment in which you put things together. You earn 6 points when you carry out the basic tasks and an additional 4 points for analysing and discussing the results poperly. The maximum score is 10 points.\n",
    "\n",
    "<ol>\n",
    "    <li><b>Annotated Eliza conversations</b> [2 Points]\n",
    "        <ul>\n",
    "        <li> Load the annotated Eliza conversations in a Pandas data frame (code is given)\n",
    "        <li>  Provide a statistical analysis of the emotion labels in the data\n",
    "        </ul>\n",
    "    <li><b>GO-emotions</b> [2 points]\n",
    "        <ul>\n",
    "        <li> Create a pipeline for the GO-emotion classifier\n",
    "        <li> Apply the pipeline to the turns in the conversation\n",
    "        <li> Map the GO labels to Ekman labels using a motivated(!) threshold\n",
    "        <li> Generate a classification report and confusion matrix as evaluation\n",
    "        </ul>\n",
    "    <li><b>Train a BoW SVM Ekman emotion classifier combining both the MELD and Tweet data</b> [2 POINTS]\n",
    "        <ul>\n",
    "        <li> Load the train, test and development data from MELD and WASSA\n",
    "        <li> Discuss the statistics of the training data for the Ekman emotions\n",
    "        <li> Create a BoW vector representation and train an SVM classifier\n",
    "        <li> Save the classifier to disk\n",
    "        <li> Load the classifier in this notebook and apply it to the Eliza utterances\n",
    "        <li> Generate a classification report and confusion matrix as evaluation\n",
    "        </ul>\n",
    "    <li><b>Discuss the result</b> [4 POINTS]\n",
    "        <ul>\n",
    "        <li> Report on similarities and differences in performances and confusion matrixes \n",
    "        <li> What did you expect (recall and precision) and is this confirmed or falsified?\n",
    "        <li> An error analysis of a manual selection of 10-20 utterances [motivate your selection]?\n",
    "        <li> Discuss how you could improve the SVM classification\n",
    "        </ul>    \n",
    "</ol>"
   ]
  },
  {
   "cell_type": "markdown",
   "metadata": {},
   "source": [
    "For 3.), you build a BoW SVM classifier in a separate notebook (use **lab5.meld-tweet-bow-svm-emotion-classifier.ipynb**) to combine the MELD and Tweet data into a single set of training data. Note that you can also include the test and development data for training since we are applying the model to the Eliza conversations and not to the MELD and Wassa tests. "
   ]
  },
  {
   "cell_type": "markdown",
   "metadata": {},
   "source": [
    "## 1. Submission"
   ]
  },
  {
   "cell_type": "markdown",
   "metadata": {},
   "source": [
    "The assignment should be made individually and submited on CANVAS as a zip file that includes the following:\n",
    "\n",
    "   1. The notebook to create a BoW-SVM combining MELD and Tweets for Ekman classification: **lab5.meld-tweet-bow-svm-emotion-classifier.ipynb**\n",
    "   2. The current notebook **lab5.final_assignment.ipynb** with your code\n",
    "   3. A PDF report of max 5 pages:\n",
    "       1. Section 1: what you have done and what choices did you make: be explicit about the settings and any data changes you made to train a classifier on MELD+Tweets\n",
    "       2. Section 2: report on the Ekman classification results. Use a single table for recall, precision and f-score and put confusion matrixes in the appendix.\n",
    "       3. Section 3: discuss the results comparing the SVM and the GO-classifier and the insights from your error analysis\n",
    "       4. Section 4: how to improve the SVM classifier\n",
    "    \n",
    "Use the notebooks that are given as a guide with the code and the output. You should NOT discuss the results in the notebooks but in the report. Use the notebooks to run the experiments and get the results. Include the tables and figures in the report."
   ]
  },
  {
   "cell_type": "markdown",
   "metadata": {},
   "source": [
    "Some utility functions presented during this course are needed for this assignment. They are all included in the Python file **lab5_util.py**. The next import makes these functions available in this notebook. There is no need to copy these functions into this notebook explicitly. After the import, you can call the function from **util**, e.g.:\n",
    "\n",
    "```emotion_labels = sort_predictions(emotion_labels[0])```\n",
    "\n",
    "```ekman_labels = util.get_averaged_mapped_scores_by_threshold(ekman_map, emotion_labels, threshold)```\n",
    "\n",
    "```util.plot_labels_with_counts(labels, values)```"
   ]
  },
  {
   "cell_type": "code",
   "execution_count": 1,
   "metadata": {
    "tags": []
   },
   "outputs": [],
   "source": [
    "import lab5_util as util\n",
    "import pandas as pd\n",
    "from collections import Counter, OrderedDict\n",
    "from transformers import pipeline\n",
    "from sklearn.metrics import classification_report, confusion_matrix, ConfusionMatrixDisplay\n",
    "import pickle\n",
    "import sklearn\n",
    "import numpy as np"
   ]
  },
  {
   "cell_type": "markdown",
   "metadata": {
    "tags": []
   },
   "source": [
    "## 2. Loading the conversation saved on disk"
   ]
  },
  {
   "cell_type": "markdown",
   "metadata": {},
   "source": [
    "You receive a file with all the annoated conversations in CSV format. Load this file using Pandas to create a data frame.\n",
    "The next code also applies the **get_test_utterances_and_labels** functions in util to extract from the dataframe the utterances and the Gold labels. It skips the utterances and labels from Eliza, which are all labeled as ```neutral```.\n"
   ]
  },
  {
   "cell_type": "code",
   "execution_count": 2,
   "metadata": {
    "tags": []
   },
   "outputs": [
    {
     "name": "stdout",
     "output_type": "stream",
     "text": [
      "2129\n",
      "2129\n"
     ]
    },
    {
     "data": {
      "text/html": [
       "<div>\n",
       "<style scoped>\n",
       "    .dataframe tbody tr th:only-of-type {\n",
       "        vertical-align: middle;\n",
       "    }\n",
       "\n",
       "    .dataframe tbody tr th {\n",
       "        vertical-align: top;\n",
       "    }\n",
       "\n",
       "    .dataframe thead th {\n",
       "        text-align: right;\n",
       "    }\n",
       "</style>\n",
       "<table border=\"1\" class=\"dataframe\">\n",
       "  <thead>\n",
       "    <tr style=\"text-align: right;\">\n",
       "      <th></th>\n",
       "      <th>turn_id</th>\n",
       "      <th>utterance</th>\n",
       "      <th>speaker</th>\n",
       "      <th>Gold</th>\n",
       "    </tr>\n",
       "  </thead>\n",
       "  <tbody>\n",
       "    <tr>\n",
       "      <th>0</th>\n",
       "      <td>1</td>\n",
       "      <td>I feel mad</td>\n",
       "      <td>speaker_1</td>\n",
       "      <td>anger</td>\n",
       "    </tr>\n",
       "    <tr>\n",
       "      <th>2</th>\n",
       "      <td>2</td>\n",
       "      <td>It's just numb and loneliness</td>\n",
       "      <td>speaker_1</td>\n",
       "      <td>sadness</td>\n",
       "    </tr>\n",
       "    <tr>\n",
       "      <th>4</th>\n",
       "      <td>3</td>\n",
       "      <td>My mom yells at me</td>\n",
       "      <td>speaker_1</td>\n",
       "      <td>fear</td>\n",
       "    </tr>\n",
       "    <tr>\n",
       "      <th>6</th>\n",
       "      <td>4</td>\n",
       "      <td>I'm surprised with the gift</td>\n",
       "      <td>speaker_1</td>\n",
       "      <td>surprise</td>\n",
       "    </tr>\n",
       "    <tr>\n",
       "      <th>8</th>\n",
       "      <td>5</td>\n",
       "      <td>I'm angry at you</td>\n",
       "      <td>speaker_1</td>\n",
       "      <td>anger</td>\n",
       "    </tr>\n",
       "  </tbody>\n",
       "</table>\n",
       "</div>"
      ],
      "text/plain": [
       "   turn_id                      utterance    speaker      Gold\n",
       "0        1                     I feel mad  speaker_1     anger\n",
       "2        2  It's just numb and loneliness  speaker_1   sadness\n",
       "4        3             My mom yells at me  speaker_1      fear\n",
       "6        4    I'm surprised with the gift  speaker_1  surprise\n",
       "8        5               I'm angry at you  speaker_1     anger"
      ]
     },
     "execution_count": 2,
     "metadata": {},
     "output_type": "execute_result"
    }
   ],
   "source": [
    "# THE CODE TO LOAD THE TEST DATA AND LABELS\n",
    "file = \"2022_2023_eliza.csv\"\n",
    "df = pd.read_csv(file, sep=\";\")\n",
    "df = df.dropna()\n",
    "# Filter out rows with 'Eliza' as the speaker\n",
    "df = df[df['speaker'] != 'Eliza']\n",
    "#Test instances and test labels\n",
    "test_instances, test_labels = util.get_test_utterances_and_labels(df)\n",
    "print(len(test_instances))\n",
    "print(len(test_labels))\n",
    "df.head()"
   ]
  },
  {
   "cell_type": "markdown",
   "metadata": {},
   "source": [
    "You have now an equal number of utterances and labels to test the classifiers."
   ]
  },
  {
   "cell_type": "markdown",
   "metadata": {
    "tags": []
   },
   "source": [
    "### 1.2 Provide a statistical analysis of the test data"
   ]
  },
  {
   "cell_type": "code",
   "execution_count": 3,
   "metadata": {
    "tags": []
   },
   "outputs": [
    {
     "name": "stdout",
     "output_type": "stream",
     "text": [
      "neutral: 833\n",
      "joy: 343\n",
      "sadness: 315\n",
      "anger: 261\n",
      "fear: 145\n",
      "surprise: 125\n",
      "disgust: 107\n",
      "Total of values 2129\n"
     ]
    },
    {
     "data": {
      "image/png": "[encoded data removed]",
      "text/plain": [
       "<Figure size 640x480 with 1 Axes>"
      ]
     },
     "metadata": {},
     "output_type": "display_data"
    }
   ],
   "source": [
    "# [YOUR CODE FOR THE ANALYSIS GOES HERE]\n",
    "counts = Counter(test_labels)\n",
    "counts_sorted = OrderedDict(sorted(counts.items(), key=lambda item: item[1], reverse=True))\n",
    "\n",
    "for label, count in counts_sorted.items():\n",
    "    print(f\"{label}: {count}\")\n",
    "\n",
    "labels = list(counts_sorted.keys())\n",
    "values = list(counts_sorted.values())\n",
    "util.plot_labels_with_counts(labels, values)"
   ]
  },
  {
   "cell_type": "markdown",
   "metadata": {
    "tags": []
   },
   "source": [
    "## 2. Apply the GO classifier"
   ]
  },
  {
   "cell_type": "markdown",
   "metadata": {},
   "source": [
    "In the next part, you will apply the GO_EMOTION classifier *emotion* to the conversation loaded in a Pandas frame. You will also map the GO_EMOTIONS to the 6 basic Ekman emotion and to neutral. For the mappings, we added the utility functions to **lab5_util.py** . We also define a sort function to list the emotions from the highest score down. You first need to haved imported **lab5_util** as decribed above."
   ]
  },
  {
   "cell_type": "markdown",
   "metadata": {},
   "source": [
    "## 2.1 Create a pipeline for the GO Classifier"
   ]
  },
  {
   "cell_type": "code",
   "execution_count": 40,
   "metadata": {
    "tags": []
   },
   "outputs": [],
   "source": [
    "# HERE COMES THE CODE TO CREATE A PIPELINE FOR THE BERT-BASE-GO-EMOTION classifier\n",
    "model_name = \"bhadresh-savani/bert-base-go-emotion\" \n",
    "emotion_pipeline = pipeline('sentiment-analysis', model=model_name, top_k=None, truncation=True)"
   ]
  },
  {
   "cell_type": "markdown",
   "metadata": {},
   "source": [
    "### 2.2 Apply the GO classifier pipeline to the conversation and convert the result to Ekman"
   ]
  },
  {
   "cell_type": "code",
   "execution_count": 46,
   "metadata": {
    "tags": []
   },
   "outputs": [],
   "source": [
    "threshold = 0.03\n",
    "\n",
    "go_ekman_emotions = []\n",
    "go_ekman_scores = []\n",
    "go_emotions = []\n",
    "go_scores = []\n",
    "\n",
    "for utterance in test_instances:\n",
    "    emotion_labels = emotion_pipeline(utterance)\n",
    "    sorted_emotion_labels = util.sort_predictions(emotion_labels[0])\n",
    "    go_emotions.append(sorted_emotion_labels[0]['label'])\n",
    "    go_scores.append(sorted_emotion_labels[0]['score'])\n",
    "\n",
    "    ekman_labels = util.get_averaged_mapped_scores_by_threshold(util.ekman_map, emotion_labels, threshold)\n",
    "    if ekman_labels:\n",
    "        go_ekman_emotions.append(ekman_labels[0]['label'])\n",
    "        go_ekman_scores.append(ekman_labels[0]['score'])\n",
    "    else:\n",
    "        #### none of the labels scored above the threshold\n",
    "        go_ekman_emotions.append('None')\n",
    "        go_ekman_scores.append(0)"
   ]
  },
  {
   "cell_type": "code",
   "execution_count": 47,
   "metadata": {
    "tags": []
   },
   "outputs": [
    {
     "data": {
      "text/html": [
       "<div>\n",
       "<style scoped>\n",
       "    .dataframe tbody tr th:only-of-type {\n",
       "        vertical-align: middle;\n",
       "    }\n",
       "\n",
       "    .dataframe tbody tr th {\n",
       "        vertical-align: top;\n",
       "    }\n",
       "\n",
       "    .dataframe thead th {\n",
       "        text-align: right;\n",
       "    }\n",
       "</style>\n",
       "<table border=\"1\" class=\"dataframe\">\n",
       "  <thead>\n",
       "    <tr style=\"text-align: right;\">\n",
       "      <th></th>\n",
       "      <th>turn_id</th>\n",
       "      <th>utterance</th>\n",
       "      <th>speaker</th>\n",
       "      <th>Gold</th>\n",
       "      <th>Go_Ekman</th>\n",
       "      <th>Go_EkmanScore</th>\n",
       "      <th>Go</th>\n",
       "      <th>GoScore</th>\n",
       "      <th>SVM_Predictions</th>\n",
       "    </tr>\n",
       "  </thead>\n",
       "  <tbody>\n",
       "    <tr>\n",
       "      <th>0</th>\n",
       "      <td>1</td>\n",
       "      <td>I feel mad</td>\n",
       "      <td>speaker_1</td>\n",
       "      <td>anger</td>\n",
       "      <td>neutral</td>\n",
       "      <td>0.177434</td>\n",
       "      <td>neutral</td>\n",
       "      <td>0.177434</td>\n",
       "      <td>anger</td>\n",
       "    </tr>\n",
       "    <tr>\n",
       "      <th>2</th>\n",
       "      <td>2</td>\n",
       "      <td>It's just numb and loneliness</td>\n",
       "      <td>speaker_1</td>\n",
       "      <td>sadness</td>\n",
       "      <td>fear</td>\n",
       "      <td>0.200018</td>\n",
       "      <td>fear</td>\n",
       "      <td>0.313251</td>\n",
       "      <td>neutral</td>\n",
       "    </tr>\n",
       "    <tr>\n",
       "      <th>4</th>\n",
       "      <td>3</td>\n",
       "      <td>My mom yells at me</td>\n",
       "      <td>speaker_1</td>\n",
       "      <td>fear</td>\n",
       "      <td>neutral</td>\n",
       "      <td>0.474732</td>\n",
       "      <td>neutral</td>\n",
       "      <td>0.474732</td>\n",
       "      <td>anger</td>\n",
       "    </tr>\n",
       "    <tr>\n",
       "      <th>6</th>\n",
       "      <td>4</td>\n",
       "      <td>I'm surprised with the gift</td>\n",
       "      <td>speaker_1</td>\n",
       "      <td>surprise</td>\n",
       "      <td>surprise</td>\n",
       "      <td>0.832211</td>\n",
       "      <td>surprise</td>\n",
       "      <td>0.832211</td>\n",
       "      <td>neutral</td>\n",
       "    </tr>\n",
       "    <tr>\n",
       "      <th>8</th>\n",
       "      <td>5</td>\n",
       "      <td>I'm angry at you</td>\n",
       "      <td>speaker_1</td>\n",
       "      <td>anger</td>\n",
       "      <td>anger</td>\n",
       "      <td>0.419512</td>\n",
       "      <td>anger</td>\n",
       "      <td>0.770886</td>\n",
       "      <td>anger</td>\n",
       "    </tr>\n",
       "  </tbody>\n",
       "</table>\n",
       "</div>"
      ],
      "text/plain": [
       "   turn_id                      utterance    speaker      Gold  Go_Ekman  \\\n",
       "0        1                     I feel mad  speaker_1     anger   neutral   \n",
       "2        2  It's just numb and loneliness  speaker_1   sadness      fear   \n",
       "4        3             My mom yells at me  speaker_1      fear   neutral   \n",
       "6        4    I'm surprised with the gift  speaker_1  surprise  surprise   \n",
       "8        5               I'm angry at you  speaker_1     anger     anger   \n",
       "\n",
       "   Go_EkmanScore        Go   GoScore SVM_Predictions  \n",
       "0       0.177434   neutral  0.177434           anger  \n",
       "2       0.200018      fear  0.313251         neutral  \n",
       "4       0.474732   neutral  0.474732           anger  \n",
       "6       0.832211  surprise  0.832211         neutral  \n",
       "8       0.419512     anger  0.770886           anger  "
      ]
     },
     "execution_count": 47,
     "metadata": {},
     "output_type": "execute_result"
    }
   ],
   "source": [
    "df['Go_Ekman']=go_ekman_emotions\n",
    "df['Go_EkmanScore']=go_ekman_scores\n",
    "df['Go']=go_emotions\n",
    "df['GoScore']=go_scores\n",
    "df.head()"
   ]
  },
  {
   "cell_type": "markdown",
   "metadata": {},
   "source": [
    "## 2.3 Evaluation"
   ]
  },
  {
   "cell_type": "code",
   "execution_count": 48,
   "metadata": {
    "tags": []
   },
   "outputs": [
    {
     "name": "stdout",
     "output_type": "stream",
     "text": [
      "['anger', 'disgust', 'fear', 'joy', 'neutral', 'sadness', 'surprise']\n"
     ]
    }
   ],
   "source": [
    "# HERE COMES THE CODE TO GENERATE THE CLASSIFICATION REPORT AND CONFUSION MATRIX\n",
    "predictions = df['Go_Ekman']\n",
    "labels = list(test_labels)+list(predictions)\n",
    "label_set = sorted(set(labels))\n",
    "print(label_set)"
   ]
  },
  {
   "cell_type": "code",
   "execution_count": 49,
   "metadata": {
    "tags": []
   },
   "outputs": [
    {
     "name": "stdout",
     "output_type": "stream",
     "text": [
      "GO EKMAN mapping ----------------------------------------------------------------\n",
      "Mapping threshold 0.03\n",
      "              precision    recall  f1-score   support\n",
      "\n",
      "       anger  0.6060606 0.4597701 0.5228758       261\n",
      "     disgust  0.6956522 0.2990654 0.4183007       107\n",
      "        fear  0.8453608 0.5655172 0.6776860       145\n",
      "         joy  0.5910165 0.7288630 0.6527415       343\n",
      "     neutral  0.6187683 0.7599040 0.6821121       833\n",
      "     sadness  0.7971014 0.5238095 0.6321839       315\n",
      "    surprise  0.5259259 0.5680000 0.5461538       125\n",
      "\n",
      "    accuracy                      0.6355096      2129\n",
      "   macro avg  0.6685551 0.5578470 0.5902934      2129\n",
      "weighted avg  0.6529706 0.6355096 0.6289291      2129\n",
      "\n"
     ]
    }
   ],
   "source": [
    "\n",
    "predictions = df['Go_Ekman']\n",
    "report = classification_report(test_labels, predictions, digits = 7, target_names=label_set)\n",
    "print('GO EKMAN mapping ----------------------------------------------------------------')\n",
    "print('Mapping threshold', threshold)\n",
    "print(report)"
   ]
  },
  {
   "cell_type": "code",
   "execution_count": 50,
   "metadata": {
    "tags": []
   },
   "outputs": [
    {
     "name": "stdout",
     "output_type": "stream",
     "text": [
      "Confusion matrix SVM\n",
      "[[120   4   1  11 105   7  13]\n",
      " [ 19  32   2   6  37   9   2]\n",
      " [  7   1  82   6  42   5   2]\n",
      " [  1   2   1 250  81   4   4]\n",
      " [ 31   3   7 111 633  14  34]\n",
      " [ 18   4   4  30  85 165   9]\n",
      " [  2   0   0   9  40   3  71]]\n"
     ]
    },
    {
     "data": {
      "text/plain": [
       "<sklearn.metrics._plot.confusion_matrix.ConfusionMatrixDisplay at 0x14c113450>"
      ]
     },
     "execution_count": 50,
     "metadata": {},
     "output_type": "execute_result"
    },
    {
     "data": {
      "image/png": "[encoded data removed]",
      "text/plain": [
       "<Figure size 640x480 with 2 Axes>"
      ]
     },
     "metadata": {},
     "output_type": "display_data"
    }
   ],
   "source": [
    "print('Confusion matrix SVM')\n",
    "cf_matrix = confusion_matrix(test_labels,predictions)\n",
    "print(cf_matrix)\n",
    "display = ConfusionMatrixDisplay(confusion_matrix=cf_matrix, display_labels=label_set)\n",
    "display.plot()"
   ]
  },
  {
   "cell_type": "markdown",
   "metadata": {},
   "source": [
    "## 3 Apply the BoW classifier"
   ]
  },
  {
   "cell_type": "markdown",
   "metadata": {},
   "source": [
    "### 3.1 Load the BoW SVM classifier from MELD and TWEETS"
   ]
  },
  {
   "cell_type": "code",
   "execution_count": 33,
   "metadata": {
    "tags": []
   },
   "outputs": [],
   "source": [
    "# HERE COMES THE CODE TO LOAD THE BOW SVM CLASSIFIER BUILT FROM MELD AND WASSA TWEETS\n",
    "filename_vectorizer = './models/combined_vectorizer.sav'\n",
    "filename_tfidftransformer = './models/combined_tfidf_transformer.sav'\n",
    "filename_classifier = './models/svm_linear_clf_bow.sav'\n",
    "\n",
    "loaded_vectorizer = pickle.load(open(filename_vectorizer, 'rb'))\n",
    "loaded_tfidftransformer = pickle.load(open(filename_tfidftransformer, 'rb'))\n",
    "loaded_classifier = pickle.load(open(filename_classifier, 'rb'))\n"
   ]
  },
  {
   "cell_type": "markdown",
   "metadata": {},
   "source": [
    "### 3.2 Apply the classifier to the conversation"
   ]
  },
  {
   "cell_type": "code",
   "execution_count": 34,
   "metadata": {
    "tags": []
   },
   "outputs": [
    {
     "name": "stdout",
     "output_type": "stream",
     "text": [
      "2129\n",
      "2129\n"
     ]
    },
    {
     "data": {
      "text/plain": [
       "(2129, 3616)"
      ]
     },
     "execution_count": 34,
     "metadata": {},
     "output_type": "execute_result"
    }
   ],
   "source": [
    "# HERE COMES THE CODE TO APPLY THE CLASSIFIER TO THE UTTERANCES\n",
    "print(len(test_instances))\n",
    "print(len(test_labels))\n",
    "\n",
    "new_counts = loaded_vectorizer.transform(test_instances)\n",
    "new_tfidf = loaded_tfidftransformer.transform(new_counts)\n",
    "new_tfidf.shape\n"
   ]
  },
  {
   "cell_type": "code",
   "execution_count": 35,
   "metadata": {
    "tags": []
   },
   "outputs": [
    {
     "name": "stdout",
     "output_type": "stream",
     "text": [
      "I feel mad => anger\n",
      "It's just numb and loneliness => neutral\n",
      "My mom yells at me => anger\n",
      "I'm surprised with the gift => neutral\n",
      "I'm angry at you => anger\n",
      "I'm very frustrated => joy\n",
      "The food looks disgusting => disgust\n",
      "I feel happy again => joy\n",
      "I want to laugh a lot with my family => joy\n",
      "I'm sad thinking about the past => sadness\n",
      "I care about you => neutral\n",
      "It makes me numb => joy\n",
      "I'm very frustrated with the administration => neutral\n",
      "I don't have any friends => neutral\n",
      "I want to go to a park sometimes => neutral\n",
      "But now I'm hungry => neutral\n",
      "I feel confused often => sadness\n",
      "I don't want to tell you at all => neutral\n",
      "I'm shocked he's single => sadness\n",
      "I have two apples and I feel angry => anger\n"
     ]
    }
   ],
   "source": [
    "new_predictions = loaded_classifier.predict(new_tfidf)\n",
    "for utterance, predicted_label in zip(test_instances[:20], new_predictions[:20]):\n",
    "    print('%s => %s' % (utterance, predicted_label))"
   ]
  },
  {
   "cell_type": "markdown",
   "metadata": {},
   "source": [
    "## 3.3 Evaluation"
   ]
  },
  {
   "cell_type": "code",
   "execution_count": 36,
   "metadata": {
    "tags": []
   },
   "outputs": [
    {
     "name": "stdout",
     "output_type": "stream",
     "text": [
      "LOADED CLASSIFIER RESULTS, BoW TFIDF SVM LINEAR ---------------\n",
      "Word freqeuncy threshold: 3\n",
      "              precision    recall  f1-score   support\n",
      "\n",
      "       anger  0.4331984 0.4099617 0.4212598       261\n",
      "     disgust  0.3800000 0.1775701 0.2420382       107\n",
      "        fear  0.5564516 0.4758621 0.5130112       145\n",
      "         joy  0.5987461 0.5568513 0.5770393       343\n",
      "     neutral  0.5716862 0.7611044 0.6529351       833\n",
      "     sadness  0.6055046 0.4190476 0.4953096       315\n",
      "    surprise  0.3387097 0.1680000 0.2245989       125\n",
      "\n",
      "    accuracy                      0.5509629      2129\n",
      "   macro avg  0.4977566 0.4240567 0.4465989      2129\n",
      "weighted avg  0.5397217 0.5509629 0.5336545      2129\n",
      "\n"
     ]
    }
   ],
   "source": [
    "# HERE COMES THE CODE TO GENERATE THE CLASSIFICATION REPORT AND CONFUSION MATRIX\n",
    "frequency_threshold = 3\n",
    "report = classification_report(test_labels, new_predictions, digits = 7)\n",
    "print('LOADED CLASSIFIER RESULTS, BoW TFIDF SVM LINEAR ---------------')\n",
    "print('Word freqeuncy threshold:', frequency_threshold)\n",
    "print(report)"
   ]
  },
  {
   "cell_type": "code",
   "execution_count": 37,
   "metadata": {
    "tags": []
   },
   "outputs": [
    {
     "name": "stdout",
     "output_type": "stream",
     "text": [
      "LOADED CLASSIFIER RESULTS, Confusion matrix SVM ---------\n",
      "['anger' 'disgust' 'fear' 'joy' 'neutral' 'sadness' 'surprise']\n",
      "[[107  12   4  14 106   7  11]\n",
      " [ 10  19   5   7  59   6   1]\n",
      " [ 15   0  69   5  42  12   2]\n",
      " [ 22   2   7 191 105  13   3]\n",
      " [ 64   3  22  50 634  38  22]\n",
      " [ 18   2  11  37 113 132   2]\n",
      " [ 11  12   6  15  50  10  21]]\n"
     ]
    },
    {
     "data": {
      "text/plain": [
       "<sklearn.metrics._plot.confusion_matrix.ConfusionMatrixDisplay at 0x14bda2350>"
      ]
     },
     "execution_count": 37,
     "metadata": {},
     "output_type": "execute_result"
    },
    {
     "data": {
      "image/png": "[encoded data removed]",
      "text/plain": [
       "<Figure size 640x480 with 2 Axes>"
      ]
     },
     "metadata": {},
     "output_type": "display_data"
    }
   ],
   "source": [
    "print('LOADED CLASSIFIER RESULTS, Confusion matrix SVM ---------')\n",
    "print(loaded_classifier.classes_)\n",
    "cf_matrix_svm = sklearn.metrics.confusion_matrix(test_labels, new_predictions)\n",
    "print(cf_matrix_svm)\n",
    "display = ConfusionMatrixDisplay(confusion_matrix=cf_matrix_svm, display_labels=loaded_classifier.classes_)\n",
    "display.plot()"
   ]
  },
  {
   "cell_type": "markdown",
   "metadata": {
    "tags": []
   },
   "source": [
    "### Comparative performance analysis"
   ]
  },
  {
   "cell_type": "code",
   "execution_count": 20,
   "metadata": {
    "tags": []
   },
   "outputs": [
    {
     "name": "stdout",
     "output_type": "stream",
     "text": [
      "    Emotion  Precision Difference  Recall Difference  F1-Score Difference\n",
      "0     anger              0.172862           0.049808             0.101616\n",
      "1   disgust              0.315652           0.121495             0.176263\n",
      "2      fear              0.288909           0.089655             0.164675\n",
      "3       joy              0.007730           0.172012             0.075702\n",
      "4   neutral              0.047082           0.001200             0.029177\n",
      "5   sadness              0.191597           0.104762             0.136874\n",
      "6  surprise              0.187216           0.400000             0.321555\n"
     ]
    }
   ],
   "source": [
    "# Comparing the precision, recall, and F1-score for each emotion\n",
    "go_precision = [0.6060606, 0.6956522, 0.8453608, 0.5910165, 0.6187683, 0.7971014, 0.5259259]\n",
    "go_recall = [0.4597701, 0.2990654, 0.5655172, 0.7288630, 0.7599040, 0.5238095, 0.5680000]\n",
    "go_f1 = [0.5228758, 0.4183007, 0.6776860, 0.6527415, 0.6821121, 0.6321839, 0.5461538]\n",
    "\n",
    "svm_precision = [0.4331984, 0.3800000, 0.5564516, 0.5987461, 0.5716862, 0.6055046, 0.3387097]\n",
    "svm_recall = [0.4099617, 0.1775701, 0.4758621, 0.5568513, 0.7611044, 0.4190476, 0.1680000]\n",
    "svm_f1 = [0.4212598, 0.2420382, 0.5130112, 0.5770393, 0.6529351, 0.4953096, 0.2245989]\n",
    "\n",
    "emotions = ['anger', 'disgust', 'fear', 'joy', 'neutral', 'sadness', 'surprise']\n",
    "\n",
    "# Calculate the absolute differences between GO and SVM classifiers for precision, recall, and F1-score\n",
    "precision_diff = np.abs(np.array(go_precision) - np.array(svm_precision))\n",
    "recall_diff = np.abs(np.array(go_recall) - np.array(svm_recall))\n",
    "f1_diff = np.abs(np.array(go_f1) - np.array(svm_f1))\n",
    "\n",
    "differences = {\n",
    "    'Emotion': emotions,\n",
    "    'Precision Difference': precision_diff,\n",
    "    'Recall Difference': recall_diff,\n",
    "    'F1-Score Difference': f1_diff}\n",
    "\n",
    "differences_df = pd.DataFrame(differences)\n",
    "print(differences_df)\n"
   ]
  },
  {
   "cell_type": "code",
   "execution_count": 51,
   "metadata": {
    "tags": []
   },
   "outputs": [
    {
     "name": "stdout",
     "output_type": "stream",
     "text": [
      "                   Metric  Difference\n",
      "0                Accuracy    0.084547\n",
      "1     Macro Avg Precision    0.170798\n",
      "2        Macro Avg Recall    0.133790\n",
      "3      Macro Avg F1-Score    0.143694\n",
      "4  Weighted Avg Precision    0.113249\n",
      "5     Weighted Avg Recall    0.084547\n",
      "6   Weighted Avg F1-Score    0.095275\n"
     ]
    }
   ],
   "source": [
    "# Calculate the differences in accuracy, macro avg, and weighted avg\n",
    "go_accuracy = 0.6355096\n",
    "go_macro_precision = 0.6685551\n",
    "go_macro_recall = 0.5578470\n",
    "go_macro_f1 = 0.5902934\n",
    "go_weighted_precision = 0.6529706\n",
    "go_weighted_recall = 0.6355096\n",
    "go_weighted_f1 = 0.6289291\n",
    "\n",
    "svm_accuracy = 0.5509629\n",
    "svm_macro_precision = 0.4977566\n",
    "svm_macro_recall = 0.4240567\n",
    "svm_macro_f1 = 0.4465989\n",
    "svm_weighted_precision = 0.5397217\n",
    "svm_weighted_recall = 0.5509629\n",
    "svm_weighted_f1 = 0.5336545\n",
    "\n",
    "accuracy_diff = abs(go_accuracy - svm_accuracy)\n",
    "macro_precision_diff = abs(go_macro_precision - svm_macro_precision)\n",
    "macro_recall_diff = abs(go_macro_recall - svm_macro_recall)\n",
    "macro_f1_diff = abs(go_macro_f1 - svm_macro_f1)\n",
    "weighted_precision_diff = abs(go_weighted_precision - svm_weighted_precision)\n",
    "weighted_recall_diff = abs(go_weighted_recall - svm_weighted_recall)\n",
    "weighted_f1_diff = abs(go_weighted_f1 - svm_weighted_f1)\n",
    "\n",
    "differences_avg = {\n",
    "    'Metric': ['Accuracy', 'Macro Avg Precision', 'Macro Avg Recall', 'Macro Avg F1-Score', \n",
    "               'Weighted Avg Precision', 'Weighted Avg Recall', 'Weighted Avg F1-Score'],\n",
    "    'Difference': [accuracy_diff, macro_precision_diff, macro_recall_diff, macro_f1_diff,\n",
    "                   weighted_precision_diff, weighted_recall_diff, weighted_f1_diff]}\n",
    "\n",
    "differences_avg_df = pd.DataFrame(differences_avg)\n",
    "print(differences_avg_df)"
   ]
  },
  {
   "cell_type": "markdown",
   "metadata": {},
   "source": [
    "### Extracting test instances for error analysis"
   ]
  },
  {
   "cell_type": "code",
   "execution_count": 23,
   "metadata": {
    "tags": []
   },
   "outputs": [],
   "source": [
    "# Filter instances where the gold label is \"disgust,\" the SVM classifier used any label other than \"disgust,\"\n",
    "# but the GO classifier correctly labelled it as \"disgust\"\n",
    "df['SVM_Predictions'] = new_predictions\n",
    "disgust_svm_misclassified_go_disgust = df[(df['Gold'] == 'disgust') & (df['SVM_Predictions'] != 'disgust') & (df['Go_Ekman'] == 'disgust')]\n",
    "\n",
    "instance_numbers = disgust_svm_misclassified_go_disgust['turn_id']\n",
    "instances = disgust_svm_misclassified_go_disgust['utterance']\n",
    "gold_labels = disgust_svm_misclassified_go_disgust['Gold']\n",
    "go_ekman_predictions = disgust_svm_misclassified_go_disgust['Go_Ekman']\n",
    "svm_predictions = disgust_svm_misclassified_go_disgust['SVM_Predictions']\n",
    "\n",
    "#for instance_number, instance, gold_label, go_ekman_prediction, svm_prediction in zip(instance_numbers, instances, gold_labels, go_ekman_predictions, svm_predictions):\n",
    "    #print(f\"Instance Number: {instance_number}\")\n",
    "    #print(f\"Instance: {instance}\")\n",
    "    #print(f\"GOLD Label: {gold_label}\")\n",
    "    #print(f\"GO Ekman Prediction: {go_ekman_prediction}\")\n",
    "    #print(f\"SVM Prediction: {svm_prediction}\")\n",
    "    #print(\"\\n\")"
   ]
  },
  {
   "cell_type": "code",
   "execution_count": 24,
   "metadata": {
    "tags": []
   },
   "outputs": [],
   "source": [
    "# Filter instances where the gold label is \"disgust\" but neither classifier predicted \"disgust\"\n",
    "disgust_errors = df[(df['Gold'] == 'disgust') & (df['Go_Ekman'] != 'disgust') & (df['SVM_Predictions'] != 'disgust')]\n",
    "\n",
    "instance_numbers = disgust_errors['turn_id']\n",
    "instances = disgust_errors['utterance']\n",
    "gold_labels = disgust_errors['Gold']\n",
    "go_ekman_predictions = disgust_errors['Go_Ekman']\n",
    "svm_predictions = disgust_errors['SVM_Predictions']\n",
    "\n",
    "#for instance_number, instance, gold_label, go_ekman_prediction, svm_prediction in zip(instance_numbers, instances, gold_labels, go_ekman_predictions, svm_predictions):\n",
    "    #print(f\"Instance Number: {instance_number}\")\n",
    "    #print(f\"Instance: {instance}\")\n",
    "    #print(f\"GOLD Label: {gold_label}\")\n",
    "    #print(f\"GO Ekman Prediction: {go_ekman_prediction}\")\n",
    "    #print(f\"SVM Prediction: {svm_prediction}\")\n",
    "    #print(\"\\n\")"
   ]
  },
  {
   "cell_type": "code",
   "execution_count": 25,
   "metadata": {
    "tags": []
   },
   "outputs": [],
   "source": [
    "# Filter instances where the gold label is \"surprise,\" the SVM classifier used any label other than \"surprise,\"\n",
    "# but the GO classifier correctly labelled it as \"surprise\"\n",
    "surprise_svm_misclassified_go_surprise = df[(df['Gold'] == 'surprise') & (df['SVM_Predictions'] != 'surprise') & (df['Go_Ekman'] == 'surprise')]\n",
    "\n",
    "instance_numbers = surprise_svm_misclassified_go_surprise['turn_id']\n",
    "instances = surprise_svm_misclassified_go_surprise['utterance']\n",
    "gold_labels = surprise_svm_misclassified_go_surprise['Gold']\n",
    "go_ekman_predictions = surprise_svm_misclassified_go_surprise['Go_Ekman']\n",
    "svm_predictions = surprise_svm_misclassified_go_surprise['SVM_Predictions']\n",
    "\n",
    "#for instance_number, instance, gold_label, go_ekman_prediction, svm_prediction in zip(instance_numbers, instances, gold_labels, go_ekman_predictions, svm_predictions):\n",
    "    #print(f\"Instance Number: {instance_number}\")\n",
    "    #print(f\"Instance: {instance}\")\n",
    "    #print(f\"GOLD Label: {gold_label}\")\n",
    "    #print(f\"GO Ekman Prediction: {go_ekman_prediction}\")\n",
    "    #print(f\"SVM Prediction: {svm_prediction}\")\n",
    "    #print(\"\\n\")"
   ]
  },
  {
   "cell_type": "code",
   "execution_count": 26,
   "metadata": {
    "tags": []
   },
   "outputs": [],
   "source": [
    "# Filter instances where the gold label is \"surprise,\" but neither classifier predicted \"surprise\"\n",
    "surprise_errors = df[(df['Gold'] == 'surprise') & (df['Go_Ekman'] != 'surprise') & (df['SVM_Predictions'] != 'surprise')]\n",
    "\n",
    "instance_numbers = surprise_errors['turn_id']\n",
    "instances = surprise_errors['utterance']\n",
    "gold_labels = surprise_errors['Gold']\n",
    "go_ekman_predictions = surprise_errors['Go_Ekman']\n",
    "svm_predictions = surprise_errors['SVM_Predictions']\n",
    "\n",
    "#for instance_number, instance, gold_label, go_ekman_prediction, svm_prediction in zip(instance_numbers, instances, gold_labels, go_ekman_predictions, svm_predictions):\n",
    "    #print(f\"Instance Number: {instance_number}\")\n",
    "    #print(f\"Instance: {instance}\")\n",
    "    #print(f\"GOLD Label: {gold_label}\")\n",
    "    #print(f\"GO Ekman Prediction: {go_ekman_prediction}\")\n",
    "    #print(f\"SVM Prediction: {svm_prediction}\")\n",
    "    #print(\"\\n\")\n"
   ]
  },
  {
   "cell_type": "code",
   "execution_count": 53,
   "metadata": {
    "tags": []
   },
   "outputs": [],
   "source": [
    "#Filter instances where gold label is \"sadness\" but model predicted \"joy\"\n",
    "sadness_errors = df[(df['Gold'] == 'sadness') & (df['Go_Ekman'] == 'joy') & (df['SVM_Predictions'] == 'joy')]\n",
    "\n",
    "instance_numbers = sadness_errors['turn_id']\n",
    "instances = sadness_errors['utterance']\n",
    "gold_labels = sadness_errors['Gold']\n",
    "go_ekman_predictions = sadness_errors['Go_Ekman']\n",
    "svm_predictions = sadness_errors['SVM_Predictions']\n",
    "\n",
    "#for instance_number, instance, gold_label, go_ekman_prediction, svm_prediction in zip(instance_numbers, instances, gold_labels, go_ekman_predictions, svm_predictions):\n",
    "    #print(f\"Instance Number: {instance_number}\")\n",
    "    #print(f\"Instance: {instance}\")\n",
    "    #print(f\"GOLD Label: {gold_label}\")\n",
    "    #print(f\"GO Ekman Prediction: {go_ekman_prediction}\")\n",
    "    #print(f\"SVM Prediction: {svm_prediction}\")\n",
    "    #print(\"\\n\")"
   ]
  },
  {
   "cell_type": "markdown",
   "metadata": {},
   "source": [
    "## End of the assignment"
   ]
  }
 ],
 "metadata": {
  "kernelspec": {
   "display_name": "Python 3 (ipykernel)",
   "language": "python",
   "name": "python3"
  },
  "language_info": {
   "codemirror_mode": {
    "name": "ipython",
    "version": 3
   },
   "file_extension": ".py",
   "mimetype": "text/x-python",
   "name": "python",
   "nbconvert_exporter": "python",
   "pygments_lexer": "ipython3",
   "version": "3.11.5"
  }
 },
 "nbformat": 4,
 "nbformat_minor": 4
}
